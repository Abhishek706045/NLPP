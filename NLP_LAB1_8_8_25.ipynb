{
  "cells": [
    {
      "cell_type": "markdown",
      "metadata": {
        "id": "view-in-github",
        "colab_type": "text"
      },
      "source": [
        "<a href=\"https://colab.research.google.com/github/Abhishek706045/NLPP/blob/main/NLP_LAB1_8_8_25.ipynb\" target=\"_parent\"><img src=\"https://colab.research.google.com/assets/colab-badge.svg\" alt=\"Open In Colab\"/></a>"
      ]
    },
    {
      "cell_type": "markdown",
      "source": [
        "Name:abhishek kumar\n",
        "Enrollment no.:S25MCAG0086\n",
        "BATCH.:3"
      ],
      "metadata": {
        "id": "_GYSEiauZoSh"
      }
    },
    {
      "cell_type": "code",
      "source": [
        "import re"
      ],
      "metadata": {
        "id": "IN3CrKo1VYEw"
      },
      "execution_count": null,
      "outputs": []
    },
    {
      "cell_type": "code",
      "source": [
        "def extract_domains(text):\n",
        "    return re.findall(r'https?://(?:www\\.)?([a-zA-Z0-9.-]+\\.[a-zA-Z]{2,})', text)\n",
        "\n",
        "# Test\n",
        "text1 = \"Visit our portal at https://www.iitbhu.ac.in for details.\"\n",
        "print(extract_domains(text1))\n"
      ],
      "metadata": {
        "colab": {
          "base_uri": "https://localhost:8080/"
        },
        "id": "tqk2INyUVCW7",
        "outputId": "800b9664-6efa-4b5b-9a76-0cf50d3fbdae"
      },
      "execution_count": null,
      "outputs": [
        {
          "output_type": "stream",
          "name": "stdout",
          "text": [
            "['iitbhu.ac.in']\n"
          ]
        }
      ]
    },
    {
      "cell_type": "code",
      "source": [
        "def extract_emails(text):\n",
        "    return re.findall(r'[a-zA-Z0-9._%+-]+@(gmail|yahoo)\\.com', text)\n",
        "\n",
        "# Extract full addresses\n",
        "def extract_full_emails(text):\n",
        "    return re.findall(r'[a-zA-Z0-9._%+-]+@(?:gmail|yahoo)\\.com', text)\n",
        "\n",
        "text2 = \"Send updates to abc123@yahoo.com and x.y.z@gmail.com\"\n",
        "print(extract_full_emails(text2))\n"
      ],
      "metadata": {
        "colab": {
          "base_uri": "https://localhost:8080/"
        },
        "id": "1xCzKEz2VLbq",
        "outputId": "e512ea9e-00da-4f23-eef9-ef10595b900c"
      },
      "execution_count": null,
      "outputs": [
        {
          "output_type": "stream",
          "name": "stdout",
          "text": [
            "['abc123@yahoo.com', 'x.y.z@gmail.com']\n"
          ]
        }
      ]
    },
    {
      "cell_type": "code",
      "source": [
        "def extract_special_hashtags(text):\n",
        "    return re.findall(r'#\\w*[\\d_]+\\w*', text)\n",
        "\n",
        "text3 = \"Today's highlights: #IndvsPak_2025 #Go_India #Cricket123\"\n",
        "print(extract_special_hashtags(text3))\n"
      ],
      "metadata": {
        "colab": {
          "base_uri": "https://localhost:8080/"
        },
        "id": "caFmBjc3Vsjt",
        "outputId": "b2c627a8-4d01-4dfc-8a12-a8cd2e051b09"
      },
      "execution_count": null,
      "outputs": [
        {
          "output_type": "stream",
          "name": "stdout",
          "text": [
            "['#IndvsPak_2025', '#Go_India', '#Cricket123']\n"
          ]
        }
      ]
    },
    {
      "cell_type": "code",
      "source": [
        "def extract_mentions(text):\n",
        "    return re.findall(r'@[a-zA-Z0-9_]+', text)\n",
        "\n",
        "text4 = \"@dr_singh! you were amazing @Minister@India\"\n",
        "print(extract_mentions(text4))\n"
      ],
      "metadata": {
        "colab": {
          "base_uri": "https://localhost:8080/"
        },
        "id": "8UfI5IorWH4Y",
        "outputId": "d8fef118-f8aa-44fe-c62e-3427dfb4cb85"
      },
      "execution_count": null,
      "outputs": [
        {
          "output_type": "stream",
          "name": "stdout",
          "text": [
            "['@dr_singh', '@Minister', '@India']\n"
          ]
        }
      ]
    },
    {
      "cell_type": "code",
      "source": [
        "def extract_decimals(text):\n",
        "    return re.findall(r'\\d+\\.\\d+|\\b\\d+\\b', text)\n",
        "\n",
        "text5 = \"The price increased from 45.60 to 99.99 in 3 days\"\n",
        "print(extract_decimals(text5))\n"
      ],
      "metadata": {
        "colab": {
          "base_uri": "https://localhost:8080/"
        },
        "id": "pR2fZDI_WVyG",
        "outputId": "d740a3ab-395a-4732-abba-364cd748a2c0"
      },
      "execution_count": null,
      "outputs": [
        {
          "output_type": "stream",
          "name": "stdout",
          "text": [
            "['45.60', '99.99', '3']\n"
          ]
        }
      ]
    },
    {
      "cell_type": "code",
      "source": [
        "def extract_special_chars(text):\n",
        "    return re.findall(r'[^\\w\\s]', text)\n",
        "\n",
        "text6 = \"Whoa!! COVID-19 has changed the world @2020 #History\"\n",
        "print(extract_special_chars(text6))\n"
      ],
      "metadata": {
        "colab": {
          "base_uri": "https://localhost:8080/"
        },
        "id": "k5pKE-_tXHy0",
        "outputId": "5ab507c7-ea6c-4cd5-b441-716f3dabc887"
      },
      "execution_count": null,
      "outputs": [
        {
          "output_type": "stream",
          "name": "stdout",
          "text": [
            "['!', '!', '-', '@', '#']\n"
          ]
        }
      ]
    },
    {
      "cell_type": "code",
      "source": [
        "def is_valid_vehicle_number(number):\n",
        "    return bool(re.fullmatch(r'[A-Z]{2}\\d{2}[A-Z]{2}\\d{4}', number))\n",
        "\n",
        "print(is_valid_vehicle_number(\"UP32GH1234\"))  # True\n",
        "print(is_valid_vehicle_number(\"up32gh1234\"))  # False\n"
      ],
      "metadata": {
        "colab": {
          "base_uri": "https://localhost:8080/"
        },
        "id": "GTYGyOuHXjzM",
        "outputId": "0cc59ded-432e-46bd-a8c3-39256453e2c9"
      },
      "execution_count": null,
      "outputs": [
        {
          "output_type": "stream",
          "name": "stdout",
          "text": [
            "True\n",
            "False\n"
          ]
        }
      ]
    },
    {
      "cell_type": "code",
      "source": [
        "def normalize_text(text):\n",
        "    return re.sub(r'(.)\\1+', r'\\1', text)\n",
        "\n",
        "text8 = \"Ammmaaazing wooorrrkkk!!!\"\n",
        "print(normalize_text(text8))\n"
      ],
      "metadata": {
        "colab": {
          "base_uri": "https://localhost:8080/"
        },
        "id": "Ij7ZOk4XX3fx",
        "outputId": "1a47313f-1499-48bf-ef95-9bcb3b90f12e"
      },
      "execution_count": null,
      "outputs": [
        {
          "output_type": "stream",
          "name": "stdout",
          "text": [
            "Amazing work!\n"
          ]
        }
      ]
    },
    {
      "cell_type": "code",
      "source": [
        "def extract_mobile_numbers(text):\n",
        "    return re.findall(r'(?:\\+91|0)[6-9]\\d{9}', text)\n",
        "\n",
        "text9 = \"Call me at +919990001234 or 09990004567\"\n",
        "print(extract_mobile_numbers(text9))\n"
      ],
      "metadata": {
        "colab": {
          "base_uri": "https://localhost:8080/"
        },
        "id": "42_964rwX7h1",
        "outputId": "c4a7cdcf-50d6-4413-aba0-c0b9626bdc62"
      },
      "execution_count": null,
      "outputs": [
        {
          "output_type": "stream",
          "name": "stdout",
          "text": [
            "['+919990001234', '09990004567']\n"
          ]
        }
      ]
    },
    {
      "cell_type": "code",
      "source": [
        "def extract_proper_nouns(text):\n",
        "    sentences = re.split(r'[.!?]\\s*', text)\n",
        "    proper_nouns = []\n",
        "\n",
        "    for sentence in sentences:\n",
        "        words = sentence.split()\n",
        "        for word in words[1:]:  # Skip the first word of the sentence\n",
        "            if re.match(r'[A-Z][a-z]+', word):\n",
        "                proper_nouns.append(word)\n",
        "    return proper_nouns\n",
        "\n",
        "text10 = \"Delhi is the capital of India. Narendra Modi is the Prime Minister.\"\n",
        "print(extract_proper_nouns(text10))\n"
      ],
      "metadata": {
        "colab": {
          "base_uri": "https://localhost:8080/"
        },
        "id": "buOHd_3_ZU_R",
        "outputId": "652f4aba-161e-46db-d834-fcab5e6e1c36"
      },
      "execution_count": null,
      "outputs": [
        {
          "output_type": "stream",
          "name": "stdout",
          "text": [
            "['India', 'Modi', 'Prime', 'Minister']\n"
          ]
        }
      ]
    }
  ],
  "metadata": {
    "colab": {
      "toc_visible": true,
      "provenance": [],
      "include_colab_link": true
    },
    "kernelspec": {
      "display_name": "Python 3",
      "name": "python3"
    }
  },
  "nbformat": 4,
  "nbformat_minor": 0
}